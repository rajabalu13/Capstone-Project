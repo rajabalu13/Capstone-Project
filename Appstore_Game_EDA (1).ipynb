{
 "cells": [
  {
   "cell_type": "code",
   "execution_count": 1,
   "metadata": {},
   "outputs": [],
   "source": [
    "#import libraries\n",
    "import os\n",
    "import pandas as pd"
   ]
  },
  {
   "cell_type": "code",
   "execution_count": 4,
   "metadata": {},
   "outputs": [
    {
     "name": "stdout",
     "output_type": "stream",
     "text": [
      "D:/Springboard/Capstone Project/Datasets/Netflix/appstore_games.csv\n"
     ]
    }
   ],
   "source": [
    "#get the path\n",
    "path = \"D:/Springboard/Capstone Project/Datasets/Netflix/appstore_games.csv\"\n",
    "print(path)"
   ]
  },
  {
   "cell_type": "code",
   "execution_count": 5,
   "metadata": {},
   "outputs": [],
   "source": [
    "#analyse the data\n",
    "df = pd.read_csv(path)"
   ]
  },
  {
   "cell_type": "code",
   "execution_count": 14,
   "metadata": {},
   "outputs": [
    {
     "name": "stdout",
     "output_type": "stream",
     "text": [
      "17007\n",
      "                                                     URL          ID  \\\n",
      "0       https://apps.apple.com/us/app/sudoku/id284921427   284921427   \n",
      "1      https://apps.apple.com/us/app/reversi/id284926400   284926400   \n",
      "2      https://apps.apple.com/us/app/morocco/id284946595   284946595   \n",
      "3      https://apps.apple.com/us/app/sudoku-free/id28...   285755462   \n",
      "4      https://apps.apple.com/us/app/senet-deluxe/id2...   285831220   \n",
      "...                                                  ...         ...   \n",
      "17002  https://apps.apple.com/us/app/stack-puzzle-ris...  1474626442   \n",
      "17003  https://apps.apple.com/us/app/eachother/id1474...  1474919257   \n",
      "17004  https://apps.apple.com/us/app/rabbit-vs-tortoi...  1474962324   \n",
      "17005  https://apps.apple.com/us/app/fatall/id1474963671  1474963671   \n",
      "17006  https://apps.apple.com/us/app/the-three-kingdo...  1475076711   \n",
      "\n",
      "                            Name                        Subtitle  \\\n",
      "0                         Sudoku                             NaN   \n",
      "1                        Reversi                             NaN   \n",
      "2                        Morocco                             NaN   \n",
      "3                  Sudoku (Free)                             NaN   \n",
      "4                   Senet Deluxe                             NaN   \n",
      "...                          ...                             ...   \n",
      "17002  Stack Puzzle : Rise Tower  Blast the cubes, solve puzzle!   \n",
      "17003                  EachOther                             NaN   \n",
      "17004         Rabbit Vs Tortoise                             NaN   \n",
      "17005                     FaTaLL                Most fun game!!!   \n",
      "17006   The Three Kingdoms :Bomb                             NaN   \n",
      "\n",
      "                                                Icon URL  Average User Rating  \\\n",
      "0      https://is2-ssl.mzstatic.com/image/thumb/Purpl...                  4.0   \n",
      "1      https://is4-ssl.mzstatic.com/image/thumb/Purpl...                  3.5   \n",
      "2      https://is5-ssl.mzstatic.com/image/thumb/Purpl...                  3.0   \n",
      "3      https://is3-ssl.mzstatic.com/image/thumb/Purpl...                  3.5   \n",
      "4      https://is1-ssl.mzstatic.com/image/thumb/Purpl...                  3.5   \n",
      "...                                                  ...                  ...   \n",
      "17002  https://is5-ssl.mzstatic.com/image/thumb/Purpl...                  NaN   \n",
      "17003  https://is2-ssl.mzstatic.com/image/thumb/Purpl...                  NaN   \n",
      "17004  https://is2-ssl.mzstatic.com/image/thumb/Purpl...                  NaN   \n",
      "17005  https://is1-ssl.mzstatic.com/image/thumb/Purpl...                  NaN   \n",
      "17006  https://is1-ssl.mzstatic.com/image/thumb/Purpl...                  NaN   \n",
      "\n",
      "       User Rating Count  Price   In-app Purchases  \\\n",
      "0                 3553.0   2.99                NaN   \n",
      "1                  284.0   1.99                NaN   \n",
      "2                 8376.0   0.00                NaN   \n",
      "3               190394.0   0.00                NaN   \n",
      "4                   28.0   2.99                NaN   \n",
      "...                  ...    ...                ...   \n",
      "17002                NaN   0.00                NaN   \n",
      "17003                NaN   0.00                NaN   \n",
      "17004                NaN   0.00                NaN   \n",
      "17005                NaN   0.00  9.99, 49.99, 3.99   \n",
      "17006                NaN   0.00                NaN   \n",
      "\n",
      "                                             Description  \\\n",
      "0      Join over 21,000,000 of our fans and download ...   \n",
      "1      The classic game of Reversi, also known as Oth...   \n",
      "2      Play the classic strategy game Othello (also k...   \n",
      "3      Top 100 free app for over a year.\\nRated \"Best...   \n",
      "4      \"Senet Deluxe - The Ancient Game of Life and A...   \n",
      "...                                                  ...   \n",
      "17002  The goal is very simple, move the square horiz...   \n",
      "17003  Collect a score while you play!!\\n\\nBy linking...   \n",
      "17004  \"Rabbit Vs Tortoise is chess type cool simple ...   \n",
      "17005  Upgrade your character and use your skills to ...   \n",
      "17006  The protagonist uses the method of placing a b...   \n",
      "\n",
      "                      Developer Age Rating  \\\n",
      "0      Mighty Mighty Good Games         4+   \n",
      "1              Kiss The Machine         4+   \n",
      "2                   Bayou Games         4+   \n",
      "3      Mighty Mighty Good Games         4+   \n",
      "4               RoGame Software         4+   \n",
      "...                         ...        ...   \n",
      "17002               Zhigang Pei         4+   \n",
      "17003             Sultan Shindi         4+   \n",
      "17004             Vishal Baldha         4+   \n",
      "17005              Tayrem Games         4+   \n",
      "17006              ming bo tang         4+   \n",
      "\n",
      "                                               Languages         Size  \\\n",
      "0      DA, NL, EN, FI, FR, DE, IT, JA, KO, NB, PL, PT...   15853568.0   \n",
      "1                                                     EN   12328960.0   \n",
      "2                                                     EN     674816.0   \n",
      "3      DA, NL, EN, FI, FR, DE, IT, JA, KO, NB, PL, PT...   21552128.0   \n",
      "4      DA, NL, EN, FR, DE, EL, IT, JA, KO, NO, PT, RU...   34689024.0   \n",
      "...                                                  ...          ...   \n",
      "17002                                                 EN   64795648.0   \n",
      "17003                                                 EN  110341120.0   \n",
      "17004                                                 EN   23207936.0   \n",
      "17005                                                 EN  196750336.0   \n",
      "17006                                             EN, ZH   22952960.0   \n",
      "\n",
      "      Primary Genre                                  Genres  \\\n",
      "0             Games                 Games, Strategy, Puzzle   \n",
      "1             Games                  Games, Strategy, Board   \n",
      "2             Games                  Games, Board, Strategy   \n",
      "3             Games                 Games, Strategy, Puzzle   \n",
      "4             Games       Games, Strategy, Board, Education   \n",
      "...             ...                                     ...   \n",
      "17002         Games  Games, Entertainment, Casual, Strategy   \n",
      "17003         Games                 Games, Family, Strategy   \n",
      "17004         Games                         Games, Strategy   \n",
      "17005         Games                 Games, Strategy, Action   \n",
      "17006         Games                 Games, Strategy, Puzzle   \n",
      "\n",
      "      Original Release Date Current Version Release Date  \n",
      "0                 11/7/2008                    30/5/2017  \n",
      "1                 11/7/2008                    17/5/2018  \n",
      "2                 11/7/2008                     5/9/2017  \n",
      "3                 23/7/2008                    30/5/2017  \n",
      "4                 18/7/2008                    22/7/2018  \n",
      "...                     ...                          ...  \n",
      "17002             30/7/2019                    30/7/2019  \n",
      "17003              1/8/2019                     1/8/2019  \n",
      "17004              3/8/2019                     3/8/2019  \n",
      "17005              1/8/2019                     1/8/2019  \n",
      "17006              2/8/2019                     2/8/2019  \n",
      "\n",
      "[17007 rows x 18 columns]\n"
     ]
    },
    {
     "data": {
      "text/plain": [
       "URL                              object\n",
       "ID                                int64\n",
       "Name                             object\n",
       "Subtitle                         object\n",
       "Icon URL                         object\n",
       "Average User Rating             float64\n",
       "User Rating Count               float64\n",
       "Price                           float64\n",
       "In-app Purchases                 object\n",
       "Description                      object\n",
       "Developer                        object\n",
       "Age Rating                       object\n",
       "Languages                        object\n",
       "Size                            float64\n",
       "Primary Genre                    object\n",
       "Genres                           object\n",
       "Original Release Date            object\n",
       "Current Version Release Date     object\n",
       "dtype: object"
      ]
     },
     "execution_count": 14,
     "metadata": {},
     "output_type": "execute_result"
    }
   ],
   "source": [
    "df.columns\n",
    "print(len(df)) #length of records\n",
    "print(df)\n",
    "df.dtypes #different data types"
   ]
  },
  {
   "cell_type": "code",
   "execution_count": 7,
   "metadata": {},
   "outputs": [
    {
     "data": {
      "text/html": [
       "<div>\n",
       "<style scoped>\n",
       "    .dataframe tbody tr th:only-of-type {\n",
       "        vertical-align: middle;\n",
       "    }\n",
       "\n",
       "    .dataframe tbody tr th {\n",
       "        vertical-align: top;\n",
       "    }\n",
       "\n",
       "    .dataframe thead th {\n",
       "        text-align: right;\n",
       "    }\n",
       "</style>\n",
       "<table border=\"1\" class=\"dataframe\">\n",
       "  <thead>\n",
       "    <tr style=\"text-align: right;\">\n",
       "      <th></th>\n",
       "      <th>ID</th>\n",
       "      <th>Average User Rating</th>\n",
       "      <th>User Rating Count</th>\n",
       "      <th>Price</th>\n",
       "      <th>Size</th>\n",
       "    </tr>\n",
       "  </thead>\n",
       "  <tbody>\n",
       "    <tr>\n",
       "      <th>count</th>\n",
       "      <td>1.700700e+04</td>\n",
       "      <td>7561.000000</td>\n",
       "      <td>7.561000e+03</td>\n",
       "      <td>16983.000000</td>\n",
       "      <td>1.700600e+04</td>\n",
       "    </tr>\n",
       "    <tr>\n",
       "      <th>mean</th>\n",
       "      <td>1.059614e+09</td>\n",
       "      <td>4.060905</td>\n",
       "      <td>3.306531e+03</td>\n",
       "      <td>0.813419</td>\n",
       "      <td>1.157064e+08</td>\n",
       "    </tr>\n",
       "    <tr>\n",
       "      <th>std</th>\n",
       "      <td>2.999676e+08</td>\n",
       "      <td>0.751428</td>\n",
       "      <td>4.232256e+04</td>\n",
       "      <td>7.835732</td>\n",
       "      <td>2.036477e+08</td>\n",
       "    </tr>\n",
       "    <tr>\n",
       "      <th>min</th>\n",
       "      <td>2.849214e+08</td>\n",
       "      <td>1.000000</td>\n",
       "      <td>5.000000e+00</td>\n",
       "      <td>0.000000</td>\n",
       "      <td>5.132800e+04</td>\n",
       "    </tr>\n",
       "    <tr>\n",
       "      <th>25%</th>\n",
       "      <td>8.996543e+08</td>\n",
       "      <td>3.500000</td>\n",
       "      <td>1.200000e+01</td>\n",
       "      <td>0.000000</td>\n",
       "      <td>2.295014e+07</td>\n",
       "    </tr>\n",
       "    <tr>\n",
       "      <th>50%</th>\n",
       "      <td>1.112286e+09</td>\n",
       "      <td>4.500000</td>\n",
       "      <td>4.600000e+01</td>\n",
       "      <td>0.000000</td>\n",
       "      <td>5.676895e+07</td>\n",
       "    </tr>\n",
       "    <tr>\n",
       "      <th>75%</th>\n",
       "      <td>1.286983e+09</td>\n",
       "      <td>4.500000</td>\n",
       "      <td>3.090000e+02</td>\n",
       "      <td>0.000000</td>\n",
       "      <td>1.330271e+08</td>\n",
       "    </tr>\n",
       "    <tr>\n",
       "      <th>max</th>\n",
       "      <td>1.475077e+09</td>\n",
       "      <td>5.000000</td>\n",
       "      <td>3.032734e+06</td>\n",
       "      <td>179.990000</td>\n",
       "      <td>4.005591e+09</td>\n",
       "    </tr>\n",
       "  </tbody>\n",
       "</table>\n",
       "</div>"
      ],
      "text/plain": [
       "                 ID  Average User Rating  User Rating Count         Price  \\\n",
       "count  1.700700e+04          7561.000000       7.561000e+03  16983.000000   \n",
       "mean   1.059614e+09             4.060905       3.306531e+03      0.813419   \n",
       "std    2.999676e+08             0.751428       4.232256e+04      7.835732   \n",
       "min    2.849214e+08             1.000000       5.000000e+00      0.000000   \n",
       "25%    8.996543e+08             3.500000       1.200000e+01      0.000000   \n",
       "50%    1.112286e+09             4.500000       4.600000e+01      0.000000   \n",
       "75%    1.286983e+09             4.500000       3.090000e+02      0.000000   \n",
       "max    1.475077e+09             5.000000       3.032734e+06    179.990000   \n",
       "\n",
       "               Size  \n",
       "count  1.700600e+04  \n",
       "mean   1.157064e+08  \n",
       "std    2.036477e+08  \n",
       "min    5.132800e+04  \n",
       "25%    2.295014e+07  \n",
       "50%    5.676895e+07  \n",
       "75%    1.330271e+08  \n",
       "max    4.005591e+09  "
      ]
     },
     "execution_count": 7,
     "metadata": {},
     "output_type": "execute_result"
    }
   ],
   "source": [
    "df.describe()"
   ]
  },
  {
   "cell_type": "code",
   "execution_count": 8,
   "metadata": {},
   "outputs": [
    {
     "data": {
      "text/plain": [
       "URL                              object\n",
       "ID                                int64\n",
       "Name                             object\n",
       "Subtitle                         object\n",
       "Icon URL                         object\n",
       "Average User Rating             float64\n",
       "User Rating Count               float64\n",
       "Price                           float64\n",
       "In-app Purchases                 object\n",
       "Description                      object\n",
       "Developer                        object\n",
       "Age Rating                       object\n",
       "Languages                        object\n",
       "Size                            float64\n",
       "Primary Genre                    object\n",
       "Genres                           object\n",
       "Original Release Date            object\n",
       "Current Version Release Date     object\n",
       "dtype: object"
      ]
     },
     "execution_count": 8,
     "metadata": {},
     "output_type": "execute_result"
    }
   ],
   "source": [
    "df.dtypes"
   ]
  },
  {
   "cell_type": "code",
   "execution_count": 9,
   "metadata": {},
   "outputs": [],
   "source": [
    "text_df = df.select_dtypes('object')\n",
    "num_df = df"
   ]
  },
  {
   "cell_type": "code",
   "execution_count": 10,
   "metadata": {},
   "outputs": [
    {
     "data": {
      "text/plain": [
       "(17007, 18)"
      ]
     },
     "execution_count": 10,
     "metadata": {},
     "output_type": "execute_result"
    }
   ],
   "source": [
    "df.columns\n",
    "df.shape"
   ]
  },
  {
   "cell_type": "code",
   "execution_count": 13,
   "metadata": {},
   "outputs": [
    {
     "name": "stdout",
     "output_type": "stream",
     "text": [
      "17007\n"
     ]
    },
    {
     "data": {
      "text/plain": [
       "<bound method DataFrame.select_dtypes of                                                      URL          ID  \\\n",
       "0       https://apps.apple.com/us/app/sudoku/id284921427   284921427   \n",
       "1      https://apps.apple.com/us/app/reversi/id284926400   284926400   \n",
       "2      https://apps.apple.com/us/app/morocco/id284946595   284946595   \n",
       "3      https://apps.apple.com/us/app/sudoku-free/id28...   285755462   \n",
       "4      https://apps.apple.com/us/app/senet-deluxe/id2...   285831220   \n",
       "...                                                  ...         ...   \n",
       "17002  https://apps.apple.com/us/app/stack-puzzle-ris...  1474626442   \n",
       "17003  https://apps.apple.com/us/app/eachother/id1474...  1474919257   \n",
       "17004  https://apps.apple.com/us/app/rabbit-vs-tortoi...  1474962324   \n",
       "17005  https://apps.apple.com/us/app/fatall/id1474963671  1474963671   \n",
       "17006  https://apps.apple.com/us/app/the-three-kingdo...  1475076711   \n",
       "\n",
       "                            Name                        Subtitle  \\\n",
       "0                         Sudoku                             NaN   \n",
       "1                        Reversi                             NaN   \n",
       "2                        Morocco                             NaN   \n",
       "3                  Sudoku (Free)                             NaN   \n",
       "4                   Senet Deluxe                             NaN   \n",
       "...                          ...                             ...   \n",
       "17002  Stack Puzzle : Rise Tower  Blast the cubes, solve puzzle!   \n",
       "17003                  EachOther                             NaN   \n",
       "17004         Rabbit Vs Tortoise                             NaN   \n",
       "17005                     FaTaLL                Most fun game!!!   \n",
       "17006   The Three Kingdoms :Bomb                             NaN   \n",
       "\n",
       "                                                Icon URL  Average User Rating  \\\n",
       "0      https://is2-ssl.mzstatic.com/image/thumb/Purpl...                  4.0   \n",
       "1      https://is4-ssl.mzstatic.com/image/thumb/Purpl...                  3.5   \n",
       "2      https://is5-ssl.mzstatic.com/image/thumb/Purpl...                  3.0   \n",
       "3      https://is3-ssl.mzstatic.com/image/thumb/Purpl...                  3.5   \n",
       "4      https://is1-ssl.mzstatic.com/image/thumb/Purpl...                  3.5   \n",
       "...                                                  ...                  ...   \n",
       "17002  https://is5-ssl.mzstatic.com/image/thumb/Purpl...                  NaN   \n",
       "17003  https://is2-ssl.mzstatic.com/image/thumb/Purpl...                  NaN   \n",
       "17004  https://is2-ssl.mzstatic.com/image/thumb/Purpl...                  NaN   \n",
       "17005  https://is1-ssl.mzstatic.com/image/thumb/Purpl...                  NaN   \n",
       "17006  https://is1-ssl.mzstatic.com/image/thumb/Purpl...                  NaN   \n",
       "\n",
       "       User Rating Count  Price   In-app Purchases  \\\n",
       "0                 3553.0   2.99                NaN   \n",
       "1                  284.0   1.99                NaN   \n",
       "2                 8376.0   0.00                NaN   \n",
       "3               190394.0   0.00                NaN   \n",
       "4                   28.0   2.99                NaN   \n",
       "...                  ...    ...                ...   \n",
       "17002                NaN   0.00                NaN   \n",
       "17003                NaN   0.00                NaN   \n",
       "17004                NaN   0.00                NaN   \n",
       "17005                NaN   0.00  9.99, 49.99, 3.99   \n",
       "17006                NaN   0.00                NaN   \n",
       "\n",
       "                                             Description  \\\n",
       "0      Join over 21,000,000 of our fans and download ...   \n",
       "1      The classic game of Reversi, also known as Oth...   \n",
       "2      Play the classic strategy game Othello (also k...   \n",
       "3      Top 100 free app for over a year.\\nRated \"Best...   \n",
       "4      \"Senet Deluxe - The Ancient Game of Life and A...   \n",
       "...                                                  ...   \n",
       "17002  The goal is very simple, move the square horiz...   \n",
       "17003  Collect a score while you play!!\\n\\nBy linking...   \n",
       "17004  \"Rabbit Vs Tortoise is chess type cool simple ...   \n",
       "17005  Upgrade your character and use your skills to ...   \n",
       "17006  The protagonist uses the method of placing a b...   \n",
       "\n",
       "                      Developer Age Rating  \\\n",
       "0      Mighty Mighty Good Games         4+   \n",
       "1              Kiss The Machine         4+   \n",
       "2                   Bayou Games         4+   \n",
       "3      Mighty Mighty Good Games         4+   \n",
       "4               RoGame Software         4+   \n",
       "...                         ...        ...   \n",
       "17002               Zhigang Pei         4+   \n",
       "17003             Sultan Shindi         4+   \n",
       "17004             Vishal Baldha         4+   \n",
       "17005              Tayrem Games         4+   \n",
       "17006              ming bo tang         4+   \n",
       "\n",
       "                                               Languages         Size  \\\n",
       "0      DA, NL, EN, FI, FR, DE, IT, JA, KO, NB, PL, PT...   15853568.0   \n",
       "1                                                     EN   12328960.0   \n",
       "2                                                     EN     674816.0   \n",
       "3      DA, NL, EN, FI, FR, DE, IT, JA, KO, NB, PL, PT...   21552128.0   \n",
       "4      DA, NL, EN, FR, DE, EL, IT, JA, KO, NO, PT, RU...   34689024.0   \n",
       "...                                                  ...          ...   \n",
       "17002                                                 EN   64795648.0   \n",
       "17003                                                 EN  110341120.0   \n",
       "17004                                                 EN   23207936.0   \n",
       "17005                                                 EN  196750336.0   \n",
       "17006                                             EN, ZH   22952960.0   \n",
       "\n",
       "      Primary Genre                                  Genres  \\\n",
       "0             Games                 Games, Strategy, Puzzle   \n",
       "1             Games                  Games, Strategy, Board   \n",
       "2             Games                  Games, Board, Strategy   \n",
       "3             Games                 Games, Strategy, Puzzle   \n",
       "4             Games       Games, Strategy, Board, Education   \n",
       "...             ...                                     ...   \n",
       "17002         Games  Games, Entertainment, Casual, Strategy   \n",
       "17003         Games                 Games, Family, Strategy   \n",
       "17004         Games                         Games, Strategy   \n",
       "17005         Games                 Games, Strategy, Action   \n",
       "17006         Games                 Games, Strategy, Puzzle   \n",
       "\n",
       "      Original Release Date Current Version Release Date  \n",
       "0                 11/7/2008                    30/5/2017  \n",
       "1                 11/7/2008                    17/5/2018  \n",
       "2                 11/7/2008                     5/9/2017  \n",
       "3                 23/7/2008                    30/5/2017  \n",
       "4                 18/7/2008                    22/7/2018  \n",
       "...                     ...                          ...  \n",
       "17002             30/7/2019                    30/7/2019  \n",
       "17003              1/8/2019                     1/8/2019  \n",
       "17004              3/8/2019                     3/8/2019  \n",
       "17005              1/8/2019                     1/8/2019  \n",
       "17006              2/8/2019                     2/8/2019  \n",
       "\n",
       "[17007 rows x 18 columns]>"
      ]
     },
     "execution_count": 13,
     "metadata": {},
     "output_type": "execute_result"
    }
   ],
   "source": [
    "df.columns\n",
    "print(len(df)) # length of records\n",
    "df.select_dtypes"
   ]
  },
  {
   "cell_type": "code",
   "execution_count": 19,
   "metadata": {},
   "outputs": [
    {
     "data": {
      "text/html": [
       "<div>\n",
       "<style scoped>\n",
       "    .dataframe tbody tr th:only-of-type {\n",
       "        vertical-align: middle;\n",
       "    }\n",
       "\n",
       "    .dataframe tbody tr th {\n",
       "        vertical-align: top;\n",
       "    }\n",
       "\n",
       "    .dataframe thead th {\n",
       "        text-align: right;\n",
       "    }\n",
       "</style>\n",
       "<table border=\"1\" class=\"dataframe\">\n",
       "  <thead>\n",
       "    <tr style=\"text-align: right;\">\n",
       "      <th></th>\n",
       "      <th>URL</th>\n",
       "      <th>Name</th>\n",
       "      <th>Subtitle</th>\n",
       "      <th>Icon URL</th>\n",
       "      <th>In-app Purchases</th>\n",
       "      <th>Description</th>\n",
       "      <th>Developer</th>\n",
       "      <th>Age Rating</th>\n",
       "      <th>Languages</th>\n",
       "      <th>Primary Genre</th>\n",
       "      <th>Genres</th>\n",
       "      <th>Original Release Date</th>\n",
       "      <th>Current Version Release Date</th>\n",
       "    </tr>\n",
       "  </thead>\n",
       "  <tbody>\n",
       "    <tr>\n",
       "      <th>0</th>\n",
       "      <td>https://apps.apple.com/us/app/sudoku/id284921427</td>\n",
       "      <td>Sudoku</td>\n",
       "      <td>NaN</td>\n",
       "      <td>https://is2-ssl.mzstatic.com/image/thumb/Purpl...</td>\n",
       "      <td>NaN</td>\n",
       "      <td>Join over 21,000,000 of our fans and download ...</td>\n",
       "      <td>Mighty Mighty Good Games</td>\n",
       "      <td>4+</td>\n",
       "      <td>DA, NL, EN, FI, FR, DE, IT, JA, KO, NB, PL, PT...</td>\n",
       "      <td>Games</td>\n",
       "      <td>Games, Strategy, Puzzle</td>\n",
       "      <td>11/7/2008</td>\n",
       "      <td>30/5/2017</td>\n",
       "    </tr>\n",
       "    <tr>\n",
       "      <th>1</th>\n",
       "      <td>https://apps.apple.com/us/app/reversi/id284926400</td>\n",
       "      <td>Reversi</td>\n",
       "      <td>NaN</td>\n",
       "      <td>https://is4-ssl.mzstatic.com/image/thumb/Purpl...</td>\n",
       "      <td>NaN</td>\n",
       "      <td>The classic game of Reversi, also known as Oth...</td>\n",
       "      <td>Kiss The Machine</td>\n",
       "      <td>4+</td>\n",
       "      <td>EN</td>\n",
       "      <td>Games</td>\n",
       "      <td>Games, Strategy, Board</td>\n",
       "      <td>11/7/2008</td>\n",
       "      <td>17/5/2018</td>\n",
       "    </tr>\n",
       "    <tr>\n",
       "      <th>2</th>\n",
       "      <td>https://apps.apple.com/us/app/morocco/id284946595</td>\n",
       "      <td>Morocco</td>\n",
       "      <td>NaN</td>\n",
       "      <td>https://is5-ssl.mzstatic.com/image/thumb/Purpl...</td>\n",
       "      <td>NaN</td>\n",
       "      <td>Play the classic strategy game Othello (also k...</td>\n",
       "      <td>Bayou Games</td>\n",
       "      <td>4+</td>\n",
       "      <td>EN</td>\n",
       "      <td>Games</td>\n",
       "      <td>Games, Board, Strategy</td>\n",
       "      <td>11/7/2008</td>\n",
       "      <td>5/9/2017</td>\n",
       "    </tr>\n",
       "    <tr>\n",
       "      <th>3</th>\n",
       "      <td>https://apps.apple.com/us/app/sudoku-free/id28...</td>\n",
       "      <td>Sudoku (Free)</td>\n",
       "      <td>NaN</td>\n",
       "      <td>https://is3-ssl.mzstatic.com/image/thumb/Purpl...</td>\n",
       "      <td>NaN</td>\n",
       "      <td>Top 100 free app for over a year.\\nRated \"Best...</td>\n",
       "      <td>Mighty Mighty Good Games</td>\n",
       "      <td>4+</td>\n",
       "      <td>DA, NL, EN, FI, FR, DE, IT, JA, KO, NB, PL, PT...</td>\n",
       "      <td>Games</td>\n",
       "      <td>Games, Strategy, Puzzle</td>\n",
       "      <td>23/7/2008</td>\n",
       "      <td>30/5/2017</td>\n",
       "    </tr>\n",
       "    <tr>\n",
       "      <th>4</th>\n",
       "      <td>https://apps.apple.com/us/app/senet-deluxe/id2...</td>\n",
       "      <td>Senet Deluxe</td>\n",
       "      <td>NaN</td>\n",
       "      <td>https://is1-ssl.mzstatic.com/image/thumb/Purpl...</td>\n",
       "      <td>NaN</td>\n",
       "      <td>\"Senet Deluxe - The Ancient Game of Life and A...</td>\n",
       "      <td>RoGame Software</td>\n",
       "      <td>4+</td>\n",
       "      <td>DA, NL, EN, FR, DE, EL, IT, JA, KO, NO, PT, RU...</td>\n",
       "      <td>Games</td>\n",
       "      <td>Games, Strategy, Board, Education</td>\n",
       "      <td>18/7/2008</td>\n",
       "      <td>22/7/2018</td>\n",
       "    </tr>\n",
       "    <tr>\n",
       "      <th>5</th>\n",
       "      <td>https://apps.apple.com/us/app/sudoku-classic-n...</td>\n",
       "      <td>Sudoku - Classic number puzzle</td>\n",
       "      <td>Original brain training</td>\n",
       "      <td>https://is1-ssl.mzstatic.com/image/thumb/Purpl...</td>\n",
       "      <td>1.99</td>\n",
       "      <td>Sudoku will tease your brain, challenge you or...</td>\n",
       "      <td>OutOfTheBit Ltd</td>\n",
       "      <td>4+</td>\n",
       "      <td>EN</td>\n",
       "      <td>Games</td>\n",
       "      <td>Games, Entertainment, Strategy, Puzzle</td>\n",
       "      <td>30/7/2008</td>\n",
       "      <td>29/4/2019</td>\n",
       "    </tr>\n",
       "    <tr>\n",
       "      <th>6</th>\n",
       "      <td>https://apps.apple.com/us/app/gravitation/id28...</td>\n",
       "      <td>Gravitation</td>\n",
       "      <td>NaN</td>\n",
       "      <td>https://is5-ssl.mzstatic.com/image/thumb/Purpl...</td>\n",
       "      <td>NaN</td>\n",
       "      <td>\"Gravitation is a new implementation of the pu...</td>\n",
       "      <td>Robert Farnum</td>\n",
       "      <td>4+</td>\n",
       "      <td>NaN</td>\n",
       "      <td>Games</td>\n",
       "      <td>Games, Entertainment, Puzzle, Strategy</td>\n",
       "      <td>30/7/2008</td>\n",
       "      <td>14/11/2013</td>\n",
       "    </tr>\n",
       "    <tr>\n",
       "      <th>7</th>\n",
       "      <td>https://apps.apple.com/us/app/colony/id286363959</td>\n",
       "      <td>Colony</td>\n",
       "      <td>NaN</td>\n",
       "      <td>https://is5-ssl.mzstatic.com/image/thumb/Purpl...</td>\n",
       "      <td>NaN</td>\n",
       "      <td>\"50 levels of addictive puzzling strategy fun!...</td>\n",
       "      <td>Chris Haynes</td>\n",
       "      <td>4+</td>\n",
       "      <td>EN</td>\n",
       "      <td>Games</td>\n",
       "      <td>Games, Strategy, Board</td>\n",
       "      <td>3/8/2008</td>\n",
       "      <td>3/10/2018</td>\n",
       "    </tr>\n",
       "    <tr>\n",
       "      <th>8</th>\n",
       "      <td>https://apps.apple.com/us/app/carte/id286566987</td>\n",
       "      <td>Carte</td>\n",
       "      <td>NaN</td>\n",
       "      <td>https://is3-ssl.mzstatic.com/image/thumb/Purpl...</td>\n",
       "      <td>NaN</td>\n",
       "      <td>\"Jeu simple qui consiste \\xe0 trouver comment ...</td>\n",
       "      <td>Jean-Francois Pautex</td>\n",
       "      <td>4+</td>\n",
       "      <td>FR</td>\n",
       "      <td>Games</td>\n",
       "      <td>Games, Strategy, Board, Entertainment</td>\n",
       "      <td>3/8/2008</td>\n",
       "      <td>23/11/2017</td>\n",
       "    </tr>\n",
       "    <tr>\n",
       "      <th>9</th>\n",
       "      <td>https://apps.apple.com/us/app/barrels-o-fun/id...</td>\n",
       "      <td>\"Barrels O' Fun\"</td>\n",
       "      <td>NaN</td>\n",
       "      <td>https://is4-ssl.mzstatic.com/image/thumb/Purpl...</td>\n",
       "      <td>NaN</td>\n",
       "      <td>Barrels O\\u2019 Fun is a simple but challengin...</td>\n",
       "      <td>BesqWare</td>\n",
       "      <td>4+</td>\n",
       "      <td>EN</td>\n",
       "      <td>Games</td>\n",
       "      <td>Games, Casual, Strategy</td>\n",
       "      <td>1/8/2008</td>\n",
       "      <td>1/8/2008</td>\n",
       "    </tr>\n",
       "  </tbody>\n",
       "</table>\n",
       "</div>"
      ],
      "text/plain": [
       "                                                 URL  \\\n",
       "0   https://apps.apple.com/us/app/sudoku/id284921427   \n",
       "1  https://apps.apple.com/us/app/reversi/id284926400   \n",
       "2  https://apps.apple.com/us/app/morocco/id284946595   \n",
       "3  https://apps.apple.com/us/app/sudoku-free/id28...   \n",
       "4  https://apps.apple.com/us/app/senet-deluxe/id2...   \n",
       "5  https://apps.apple.com/us/app/sudoku-classic-n...   \n",
       "6  https://apps.apple.com/us/app/gravitation/id28...   \n",
       "7   https://apps.apple.com/us/app/colony/id286363959   \n",
       "8    https://apps.apple.com/us/app/carte/id286566987   \n",
       "9  https://apps.apple.com/us/app/barrels-o-fun/id...   \n",
       "\n",
       "                             Name                 Subtitle  \\\n",
       "0                          Sudoku                      NaN   \n",
       "1                         Reversi                      NaN   \n",
       "2                         Morocco                      NaN   \n",
       "3                   Sudoku (Free)                      NaN   \n",
       "4                    Senet Deluxe                      NaN   \n",
       "5  Sudoku - Classic number puzzle  Original brain training   \n",
       "6                     Gravitation                      NaN   \n",
       "7                          Colony                      NaN   \n",
       "8                           Carte                      NaN   \n",
       "9                \"Barrels O' Fun\"                      NaN   \n",
       "\n",
       "                                            Icon URL In-app Purchases  \\\n",
       "0  https://is2-ssl.mzstatic.com/image/thumb/Purpl...              NaN   \n",
       "1  https://is4-ssl.mzstatic.com/image/thumb/Purpl...              NaN   \n",
       "2  https://is5-ssl.mzstatic.com/image/thumb/Purpl...              NaN   \n",
       "3  https://is3-ssl.mzstatic.com/image/thumb/Purpl...              NaN   \n",
       "4  https://is1-ssl.mzstatic.com/image/thumb/Purpl...              NaN   \n",
       "5  https://is1-ssl.mzstatic.com/image/thumb/Purpl...             1.99   \n",
       "6  https://is5-ssl.mzstatic.com/image/thumb/Purpl...              NaN   \n",
       "7  https://is5-ssl.mzstatic.com/image/thumb/Purpl...              NaN   \n",
       "8  https://is3-ssl.mzstatic.com/image/thumb/Purpl...              NaN   \n",
       "9  https://is4-ssl.mzstatic.com/image/thumb/Purpl...              NaN   \n",
       "\n",
       "                                         Description  \\\n",
       "0  Join over 21,000,000 of our fans and download ...   \n",
       "1  The classic game of Reversi, also known as Oth...   \n",
       "2  Play the classic strategy game Othello (also k...   \n",
       "3  Top 100 free app for over a year.\\nRated \"Best...   \n",
       "4  \"Senet Deluxe - The Ancient Game of Life and A...   \n",
       "5  Sudoku will tease your brain, challenge you or...   \n",
       "6  \"Gravitation is a new implementation of the pu...   \n",
       "7  \"50 levels of addictive puzzling strategy fun!...   \n",
       "8  \"Jeu simple qui consiste \\xe0 trouver comment ...   \n",
       "9  Barrels O\\u2019 Fun is a simple but challengin...   \n",
       "\n",
       "                  Developer Age Rating  \\\n",
       "0  Mighty Mighty Good Games         4+   \n",
       "1          Kiss The Machine         4+   \n",
       "2               Bayou Games         4+   \n",
       "3  Mighty Mighty Good Games         4+   \n",
       "4           RoGame Software         4+   \n",
       "5           OutOfTheBit Ltd         4+   \n",
       "6             Robert Farnum         4+   \n",
       "7              Chris Haynes         4+   \n",
       "8      Jean-Francois Pautex         4+   \n",
       "9                  BesqWare         4+   \n",
       "\n",
       "                                           Languages Primary Genre  \\\n",
       "0  DA, NL, EN, FI, FR, DE, IT, JA, KO, NB, PL, PT...         Games   \n",
       "1                                                 EN         Games   \n",
       "2                                                 EN         Games   \n",
       "3  DA, NL, EN, FI, FR, DE, IT, JA, KO, NB, PL, PT...         Games   \n",
       "4  DA, NL, EN, FR, DE, EL, IT, JA, KO, NO, PT, RU...         Games   \n",
       "5                                                 EN         Games   \n",
       "6                                                NaN         Games   \n",
       "7                                                 EN         Games   \n",
       "8                                                 FR         Games   \n",
       "9                                                 EN         Games   \n",
       "\n",
       "                                   Genres Original Release Date  \\\n",
       "0                 Games, Strategy, Puzzle             11/7/2008   \n",
       "1                  Games, Strategy, Board             11/7/2008   \n",
       "2                  Games, Board, Strategy             11/7/2008   \n",
       "3                 Games, Strategy, Puzzle             23/7/2008   \n",
       "4       Games, Strategy, Board, Education             18/7/2008   \n",
       "5  Games, Entertainment, Strategy, Puzzle             30/7/2008   \n",
       "6  Games, Entertainment, Puzzle, Strategy             30/7/2008   \n",
       "7                  Games, Strategy, Board              3/8/2008   \n",
       "8   Games, Strategy, Board, Entertainment              3/8/2008   \n",
       "9                 Games, Casual, Strategy              1/8/2008   \n",
       "\n",
       "  Current Version Release Date  \n",
       "0                    30/5/2017  \n",
       "1                    17/5/2018  \n",
       "2                     5/9/2017  \n",
       "3                    30/5/2017  \n",
       "4                    22/7/2018  \n",
       "5                    29/4/2019  \n",
       "6                   14/11/2013  \n",
       "7                    3/10/2018  \n",
       "8                   23/11/2017  \n",
       "9                     1/8/2008  "
      ]
     },
     "execution_count": 19,
     "metadata": {},
     "output_type": "execute_result"
    }
   ],
   "source": [
    "text_df = df.select_dtypes('object')\n",
    "text_df.head(10)"
   ]
  },
  {
   "cell_type": "code",
   "execution_count": 22,
   "metadata": {},
   "outputs": [
    {
     "data": {
      "text/html": [
       "<div>\n",
       "<style scoped>\n",
       "    .dataframe tbody tr th:only-of-type {\n",
       "        vertical-align: middle;\n",
       "    }\n",
       "\n",
       "    .dataframe tbody tr th {\n",
       "        vertical-align: top;\n",
       "    }\n",
       "\n",
       "    .dataframe thead th {\n",
       "        text-align: right;\n",
       "    }\n",
       "</style>\n",
       "<table border=\"1\" class=\"dataframe\">\n",
       "  <thead>\n",
       "    <tr style=\"text-align: right;\">\n",
       "      <th></th>\n",
       "      <th>Average User Rating</th>\n",
       "      <th>User Rating Count</th>\n",
       "      <th>Price</th>\n",
       "      <th>Size</th>\n",
       "    </tr>\n",
       "  </thead>\n",
       "  <tbody>\n",
       "    <tr>\n",
       "      <th>0</th>\n",
       "      <td>4.0</td>\n",
       "      <td>3553.0</td>\n",
       "      <td>2.99</td>\n",
       "      <td>15853568.0</td>\n",
       "    </tr>\n",
       "    <tr>\n",
       "      <th>1</th>\n",
       "      <td>3.5</td>\n",
       "      <td>284.0</td>\n",
       "      <td>1.99</td>\n",
       "      <td>12328960.0</td>\n",
       "    </tr>\n",
       "    <tr>\n",
       "      <th>2</th>\n",
       "      <td>3.0</td>\n",
       "      <td>8376.0</td>\n",
       "      <td>0.00</td>\n",
       "      <td>674816.0</td>\n",
       "    </tr>\n",
       "    <tr>\n",
       "      <th>3</th>\n",
       "      <td>3.5</td>\n",
       "      <td>190394.0</td>\n",
       "      <td>0.00</td>\n",
       "      <td>21552128.0</td>\n",
       "    </tr>\n",
       "    <tr>\n",
       "      <th>4</th>\n",
       "      <td>3.5</td>\n",
       "      <td>28.0</td>\n",
       "      <td>2.99</td>\n",
       "      <td>34689024.0</td>\n",
       "    </tr>\n",
       "    <tr>\n",
       "      <th>5</th>\n",
       "      <td>3.0</td>\n",
       "      <td>47.0</td>\n",
       "      <td>0.00</td>\n",
       "      <td>48672768.0</td>\n",
       "    </tr>\n",
       "    <tr>\n",
       "      <th>6</th>\n",
       "      <td>2.5</td>\n",
       "      <td>35.0</td>\n",
       "      <td>0.00</td>\n",
       "      <td>6328320.0</td>\n",
       "    </tr>\n",
       "    <tr>\n",
       "      <th>7</th>\n",
       "      <td>2.5</td>\n",
       "      <td>125.0</td>\n",
       "      <td>0.99</td>\n",
       "      <td>64333824.0</td>\n",
       "    </tr>\n",
       "    <tr>\n",
       "      <th>8</th>\n",
       "      <td>2.5</td>\n",
       "      <td>44.0</td>\n",
       "      <td>0.00</td>\n",
       "      <td>2657280.0</td>\n",
       "    </tr>\n",
       "    <tr>\n",
       "      <th>9</th>\n",
       "      <td>2.5</td>\n",
       "      <td>184.0</td>\n",
       "      <td>0.00</td>\n",
       "      <td>1466515.0</td>\n",
       "    </tr>\n",
       "  </tbody>\n",
       "</table>\n",
       "</div>"
      ],
      "text/plain": [
       "   Average User Rating  User Rating Count  Price        Size\n",
       "0                  4.0             3553.0   2.99  15853568.0\n",
       "1                  3.5              284.0   1.99  12328960.0\n",
       "2                  3.0             8376.0   0.00    674816.0\n",
       "3                  3.5           190394.0   0.00  21552128.0\n",
       "4                  3.5               28.0   2.99  34689024.0\n",
       "5                  3.0               47.0   0.00  48672768.0\n",
       "6                  2.5               35.0   0.00   6328320.0\n",
       "7                  2.5              125.0   0.99  64333824.0\n",
       "8                  2.5               44.0   0.00   2657280.0\n",
       "9                  2.5              184.0   0.00   1466515.0"
      ]
     },
     "execution_count": 22,
     "metadata": {},
     "output_type": "execute_result"
    }
   ],
   "source": [
    "text_df = df.select_dtypes('object')\n",
    "text_df.head(10)\n",
    "num_df = df.select_dtypes('float64')\n",
    "num_df.head(10)"
   ]
  },
  {
   "cell_type": "code",
   "execution_count": 23,
   "metadata": {},
   "outputs": [
    {
     "data": {
      "text/plain": [
       "Average User Rating    3.050000e+01\n",
       "User Rating Count      2.030700e+05\n",
       "Price                  8.960000e+00\n",
       "Size                   2.085572e+08\n",
       "dtype: float64"
      ]
     },
     "execution_count": 23,
     "metadata": {},
     "output_type": "execute_result"
    }
   ],
   "source": [
    "text_df = df.select_dtypes('object')\n",
    "text_df.head(10)\n",
    "num_df = df.select_dtypes('float64')\n",
    "num_df.head(10).sum()"
   ]
  },
  {
   "cell_type": "code",
   "execution_count": 25,
   "metadata": {},
   "outputs": [
    {
     "data": {
      "text/plain": [
       "<matplotlib.axes._subplots.AxesSubplot at 0x2322891abc8>"
      ]
     },
     "execution_count": 25,
     "metadata": {},
     "output_type": "execute_result"
    },
    {
     "data": {
      "image/png": "[encoded data removed]",
      "text/plain": [
       "<Figure size 432x288 with 1 Axes>"
      ]
     },
     "metadata": {
      "needs_background": "light"
     },
     "output_type": "display_data"
    }
   ],
   "source": [
    "text_df = df.select_dtypes('object')\n",
    "text_df.head(10)\n",
    "num_df = df.select_dtypes('float64')\n",
    "num_df.head(10).sum().plot.barh()"
   ]
  },
  {
   "cell_type": "code",
   "execution_count": 40,
   "metadata": {},
   "outputs": [
    {
     "data": {
      "text/plain": [
       "<matplotlib.axes._subplots.AxesSubplot at 0x2323ab90e48>"
      ]
     },
     "execution_count": 40,
     "metadata": {},
     "output_type": "execute_result"
    },
    {
     "data": {
      "image/png": "[encoded data removed]",
      "text/plain": [
       "<Figure size 432x288 with 1 Axes>"
      ]
     },
     "metadata": {
      "needs_background": "light"
     },
     "output_type": "display_data"
    }
   ],
   "source": [
    "by_Size.head(10).plot()"
   ]
  },
  {
   "cell_type": "code",
   "execution_count": 37,
   "metadata": {},
   "outputs": [],
   "source": [
    "#aggergated data\n",
    "by_subtitle = df.groupby('Subtitle').sum()\n",
    "by_Size = df.groupby('Size').sum()\n"
   ]
  },
  {
   "cell_type": "code",
   "execution_count": 38,
   "metadata": {},
   "outputs": [
    {
     "data": {
      "text/plain": [
       "<matplotlib.axes._subplots.AxesSubplot at 0x2323a5dbc88>"
      ]
     },
     "execution_count": 38,
     "metadata": {},
     "output_type": "execute_result"
    },
    {
     "data": {
      "image/png": "[encoded data removed]",
      "text/plain": [
       "<Figure size 432x288 with 1 Axes>"
      ]
     },
     "metadata": {
      "needs_background": "light"
     },
     "output_type": "display_data"
    }
   ],
   "source": [
    "by_Size.head(10).plot()"
   ]
  },
  {
   "cell_type": "code",
   "execution_count": 49,
   "metadata": {},
   "outputs": [
    {
     "data": {
      "text/plain": [
       "<matplotlib.axes._subplots.AxesSubplot at 0x232436226c8>"
      ]
     },
     "execution_count": 49,
     "metadata": {},
     "output_type": "execute_result"
    },
    {
     "data": {
      "image/png": "[encoded data removed]",
      "text/plain": [
       "<Figure size 432x288 with 1 Axes>"
      ]
     },
     "metadata": {
      "needs_background": "light"
     },
     "output_type": "display_data"
    }
   ],
   "source": [
    "text_df = df.select_dtypes('object')\n",
    "text_df.head(10)\n",
    "num_df = df.select_dtypes('float64')\n",
    "num_df.head(10).sum().plot.barh()"
   ]
  },
  {
   "cell_type": "code",
   "execution_count": 46,
   "metadata": {},
   "outputs": [],
   "source": [
    "df_num = df.select_dtypes(include = ['float64', 'int64'])"
   ]
  },
  {
   "cell_type": "code",
   "execution_count": 48,
   "metadata": {},
   "outputs": [
    {
     "data": {
      "image/png": "[encoded data removed]",
      "text/plain": [
       "<Figure size 1152x1440 with 6 Axes>"
      ]
     },
     "metadata": {
      "needs_background": "light"
     },
     "output_type": "display_data"
    }
   ],
   "source": [
    "df_num.hist(figsize=(16, 20), bins = 50, xlabelsize=8, ylabelsize=8);"
   ]
  },
  {
   "cell_type": "code",
   "execution_count": null,
   "metadata": {},
   "outputs": [],
   "source": [
    "import numpy as np; np.random.seed(0)\n",
    "import seaborn as sns; sns.set()\n",
    "uniform_data = np.random.rand(10, 12)\n",
    "ax = sns.heatmap(uniform_data)\n",
    "plt.figure(figsize=(9,8))\n",
    "sns.distplot(df['Price'], color='g', bins=100, hist_kws={'alpha': 0.4});"
   ]
  },
  {
   "cell_type": "code",
   "execution_count": null,
   "metadata": {},
   "outputs": [],
   "source": [
    "df_num_corr = df_num.corr()['Price'][:-1]\n",
    "golden_features_list = df_num_corr[abs(df_num_corr) > 0.5].sort_values(ascending=False)"
   ]
  },
  {
   "cell_type": "code",
   "execution_count": 53,
   "metadata": {},
   "outputs": [
    {
     "data": {
      "image/png": "[encoded data removed]",
      "text/plain": [
       "<Figure size 432x288 with 2 Axes>"
      ]
     },
     "metadata": {},
     "output_type": "display_data"
    }
   ],
   "source": [
    "corr = df_num.drop('Price', axis=1).corr()\n",
    "sns.heatmap(corr[(corr >= 0.5) | (corr <= -0.4)],\n",
    "            cmap='viridis', vmax=1.0, vmin=-1.0, linewidths=0.1, annot=True, annot_kws={\"size\": 8}, square=True);"
   ]
  }
 ],
 "metadata": {
  "kernelspec": {
   "display_name": "Python 3",
   "language": "python",
   "name": "python3"
  },
  "language_info": {
   "codemirror_mode": {
    "name": "ipython",
    "version": 3
   },
   "file_extension": ".py",
   "mimetype": "text/x-python",
   "name": "python",
   "nbconvert_exporter": "python",
   "pygments_lexer": "ipython3",
   "version": "3.7.6"
  }
 },
 "nbformat": 4,
 "nbformat_minor": 4
}
